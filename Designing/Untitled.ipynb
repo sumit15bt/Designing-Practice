{
 "cells": [
  {
   "cell_type": "code",
   "execution_count": 1,
   "metadata": {},
   "outputs": [
    {
     "name": "stdout",
     "output_type": "stream",
     "text": [
      "<class 'complex'>\n"
     ]
    }
   ],
   "source": [
    "n=8j\n",
    "print(type(8j))"
   ]
  },
  {
   "cell_type": "code",
   "execution_count": 34,
   "metadata": {},
   "outputs": [
    {
     "name": "stdout",
     "output_type": "stream",
     "text": [
      "5\n",
      "    S    \n",
      "   SSS   \n",
      "  SSSSS  \n",
      " SSSSSSS \n",
      "SSSSSSSSS\n",
      "  SSSSS               SSSSS             \n",
      "  SSSSS               SSSSS             \n",
      "  SSSSS               SSSSS             \n",
      "  SSSSS               SSSSS             \n",
      "  SSSSS               SSSSS             \n",
      "  SSSSS               SSSSS             \n",
      "  SSSSSSSSSSSSSSSSSSSSSSSSS   \n",
      "  SSSSSSSSSSSSSSSSSSSSSSSSS   \n",
      "  SSSSSSSSSSSSSSSSSSSSSSSSS   \n",
      "  SSSSS               SSSSS             \n",
      "  SSSSS               SSSSS             \n",
      "  SSSSS               SSSSS             \n",
      "  SSSSS               SSSSS             \n",
      "  SSSSS               SSSSS             \n",
      "  SSSSS               SSSSS             \n",
      "                    SSSSSSSSS \n",
      "                     SSSSSSS  \n",
      "                      SSSSS   \n",
      "                       SSS    \n",
      "                        S     \n"
     ]
    }
   ],
   "source": [
    "thickness=int(input())\n",
    "c='S'\n",
    "\n",
    "# top cone\n",
    "for i in range(thickness):\n",
    "    print((c*i).rjust(thickness-1)  + c + (c*i).ljust(thickness-1))\n",
    "\n",
    "# top pillars\n",
    "for i in range(thickness+1):\n",
    "    print((c*thickness).center(thickness*2) + (c*thickness).center(thickness*6))\n",
    "    \n",
    "for i in range(int((thickness+1)/2)):\n",
    "    print((c*thickness*5).center(thickness*6))\n",
    "\n",
    "# lower pillars\n",
    "for i in range(thickness+1):\n",
    "    print((c*thickness).center(thickness*2) + (c*thickness).center(thickness*6))\n",
    "\n",
    "# Lower cone\n",
    "for i in range(thickness):\n",
    "    print(((c * (thickness - i - 1)).rjust(thickness) + c +\n",
    "          (c * (thickness - i - 1)).ljust(thickness)).rjust(thickness*6))"
   ]
  },
  {
   "cell_type": "code",
   "execution_count": null,
   "metadata": {},
   "outputs": [],
   "source": []
  },
  {
   "cell_type": "code",
   "execution_count": null,
   "metadata": {},
   "outputs": [],
   "source": []
  },
  {
   "cell_type": "code",
   "execution_count": null,
   "metadata": {},
   "outputs": [],
   "source": []
  },
  {
   "cell_type": "code",
   "execution_count": 31,
   "metadata": {},
   "outputs": [
    {
     "name": "stdout",
     "output_type": "stream",
     "text": [
      "                    SSSSSSSSS \n",
      "                     SSSSSSS  \n",
      "                      SSSSS   \n",
      "                       SSS    \n",
      "                        S     \n"
     ]
    }
   ],
   "source": [
    "# Lower pillars\n",
    "for i in range(thickness):\n",
    "    print(((c * (thickness - i - 1)).rjust(thickness) + c +\n",
    "          (c * (thickness - i - 1)).ljust(thickness)).rjust(thickness*6))"
   ]
  },
  {
   "cell_type": "code",
   "execution_count": 1,
   "metadata": {},
   "outputs": [
    {
     "name": "stdout",
     "output_type": "stream",
     "text": [
      "enter stringuytrewaAZXCVBHJOIUYTEASDFGHJIKwstyyugiolk\n",
      "enter width6\n",
      "uytrew\n",
      "aAZXCV\n",
      "BHJOIU\n",
      "YTEASD\n",
      "FGHJIK\n",
      "wstyyu\n",
      "giolk\n"
     ]
    }
   ],
   "source": [
    "import textwrap\n",
    "def wrap(s,w):\n",
    "    return textwrap.fill(s,w)\n",
    "\n",
    "st,wd=input(\"enter string\"),int(input(\"enter width\"))\n",
    "print(wrap(st,wd))"
   ]
  },
  {
   "cell_type": "code",
   "execution_count": 3,
   "metadata": {},
   "outputs": [
    {
     "name": "stdout",
     "output_type": "stream",
     "text": [
      "00o00x00b0\n",
      "10o10x10b1\n",
      "20o20x20b10\n",
      "30o30x30b11\n",
      "40o40x40b100\n",
      "50o50x50b101\n",
      "60o60x60b110\n",
      "70o70x70b111\n",
      "80o100x80b1000\n",
      "90o110x90b1001\n",
      "100o120xa0b1010\n",
      "110o130xb0b1011\n",
      "120o140xc0b1100\n",
      "130o150xd0b1101\n",
      "140o160xe0b1110\n",
      "150o170xf0b1111\n",
      "160o200x100b10000\n",
      "170o210x110b10001\n",
      "180o220x120b10010\n",
      "190o230x130b10011\n",
      "200o240x140b10100\n",
      "210o250x150b10101\n",
      "220o260x160b10110\n",
      "230o270x170b10111\n",
      "240o300x180b11000\n"
     ]
    }
   ],
   "source": [
    "# number to decimal  binary octal hexadecimal\n",
    "def fun(number):\n",
    "    for i in range(number):\n",
    "        print(\"{}{}{}{}\".format(i,oct(i),hex(i),bin(i)))\n",
    "\n",
    "fun(25)\n"
   ]
  },
  {
   "cell_type": "code",
   "execution_count": null,
   "metadata": {},
   "outputs": [],
   "source": [
    "print(\"{0:{1}}{0:{1}o}{0:{1}X}{0:{1}b}\".format(i,len(\"{0:b}\".format(number))))"
   ]
  },
  {
   "cell_type": "code",
   "execution_count": 6,
   "metadata": {},
   "outputs": [
    {
     "name": "stdout",
     "output_type": "stream",
     "text": [
      "       0       0       0       0\n",
      "       1       1       1       1\n",
      "       2       2       2      10\n",
      "       3       3       3      11\n",
      "       4       4       4     100\n",
      "       5       5       5     101\n",
      "       6       6       6     110\n",
      "       7       7       7     111\n",
      "       8      10       8    1000\n",
      "       9      11       9    1001\n",
      "      10      12       A    1010\n",
      "      11      13       B    1011\n",
      "      12      14       C    1100\n",
      "      13      15       D    1101\n",
      "      14      16       E    1110\n",
      "      15      17       F    1111\n",
      "      16      20      10   10000\n",
      "      17      21      11   10001\n",
      "      18      22      12   10010\n",
      "      19      23      13   10011\n",
      "      20      24      14   10100\n",
      "      21      25      15   10101\n",
      "      22      26      16   10110\n",
      "      23      27      17   10111\n",
      "      24      30      18   11000\n"
     ]
    }
   ],
   "source": [
    "# number to decimal  binary octal hexadecimal\n",
    "def fun(number):\n",
    "    for i in range(number):\n",
    "        print(\"{0:{1}}{0:{1}o}{0:{1}X}{0:{1}b}\".format(i,len(\"{0:b}\".format(number))+3))\n",
    "\n",
    "fun(25)"
   ]
  },
  {
   "cell_type": "code",
   "execution_count": 7,
   "metadata": {},
   "outputs": [
    {
     "name": "stdout",
     "output_type": "stream",
     "text": [
      "Hhelloeee Jibc Dhic Oidin J  N  Uhue   Eheud9\n"
     ]
    }
   ],
   "source": [
    "# capitalisingg the  first letter\n",
    "def capitalise(s):\n",
    "    l=len(s)\n",
    "    s1=s[0].upper()\n",
    "    for i  in range(l):\n",
    "        if s[i-1]==' ':\n",
    "            s1=s1+s[i].upper()\n",
    "        else:\n",
    "            s1=s1+s[i]\n",
    "    return s1\n",
    "\n",
    "print(capitalise(\"helloeee jibc dhic oidin j  n  uhue   eheud9\"))\n",
    "            \n"
   ]
  },
  {
   "cell_type": "code",
   "execution_count": 17,
   "metadata": {},
   "outputs": [],
   "source": [
    "# omit simultaneos dublicates and wrap with width = k\n",
    "\n",
    "from collections import OrderedDict \n",
    "s=\"AABCAAADA\"\n",
    "k=int(2)\n",
    "l=[s[i:i+k] for i in range(0,len(s),k)]"
   ]
  },
  {
   "cell_type": "code",
   "execution_count": 18,
   "metadata": {},
   "outputs": [
    {
     "data": {
      "text/plain": [
       "['AA', 'BC', 'AA', 'AD', 'A']"
      ]
     },
     "execution_count": 18,
     "metadata": {},
     "output_type": "execute_result"
    }
   ],
   "source": [
    "l"
   ]
  },
  {
   "cell_type": "code",
   "execution_count": 19,
   "metadata": {},
   "outputs": [
    {
     "name": "stdout",
     "output_type": "stream",
     "text": [
      "A\n",
      "BC\n",
      "A\n",
      "AD\n",
      "A\n"
     ]
    }
   ],
   "source": [
    "for st in l:\n",
    "    print(\"\".join(OrderedDict.fromkeys(st)))"
   ]
  },
  {
   "cell_type": "code",
   "execution_count": 20,
   "metadata": {},
   "outputs": [],
   "source": [
    "import numpy as np"
   ]
  },
  {
   "cell_type": "code",
   "execution_count": 26,
   "metadata": {},
   "outputs": [
    {
     "name": "stdout",
     "output_type": "stream",
     "text": [
      "(2, 4)\n"
     ]
    }
   ],
   "source": [
    "\n",
    "ar=np.array([[4,5,52,6],[45,68,35,98]])\n",
    "print(ar.shape)"
   ]
  },
  {
   "cell_type": "code",
   "execution_count": 28,
   "metadata": {},
   "outputs": [
    {
     "name": "stdout",
     "output_type": "stream",
     "text": [
      "[[ 4  5 52  6]\n",
      " [45 68 35 98]]\n"
     ]
    }
   ],
   "source": [
    "tr=np.transpose(ar)\n",
    "print(ar)"
   ]
  },
  {
   "cell_type": "code",
   "execution_count": 32,
   "metadata": {},
   "outputs": [
    {
     "name": "stdout",
     "output_type": "stream",
     "text": [
      "[ 4  5 52  6 45 68 35 98]\n"
     ]
    }
   ],
   "source": [
    "flat=ar.flatten()\n",
    "print(flat)"
   ]
  },
  {
   "cell_type": "code",
   "execution_count": 35,
   "metadata": {},
   "outputs": [
    {
     "name": "stdout",
     "output_type": "stream",
     "text": [
      "4 4\n",
      "4 5 6 7\n",
      "1 2 3 4 \n",
      "6 4 5 4\n",
      "     78 9 5  4\n",
      "[['4' '5' '6' '7']\n",
      " ['1' '2' '3' '4']\n",
      " ['6' '4' '5' '4']\n",
      " ['78' '9' '5' '4']]\n",
      "[['4' '1' '6' '78']\n",
      " ['5' '2' '4' '9']\n",
      " ['6' '3' '5' '5']\n",
      " ['7' '4' '4' '4']]\n",
      "['4' '5' '6' '7' '1' '2' '3' '4' '6' '4' '5' '4' '78' '9' '5' '4']\n"
     ]
    }
   ],
   "source": [
    "r,c=map(int,input().split())\n",
    "arr=np.array(list(input().split()for i in range(r)))\n",
    "print(arr)\n",
    "print(np.transpose(arr))\n",
    "print(arr.flatten())"
   ]
  },
  {
   "cell_type": "code",
   "execution_count": 36,
   "metadata": {},
   "outputs": [
    {
     "name": "stdout",
     "output_type": "stream",
     "text": [
      "2 2\n",
      "45 56 \n",
      "65  54\n",
      "[[45 56]\n",
      " [65 54]]\n",
      "[[45 65]\n",
      " [56 54]]\n",
      "[45 56 65 54]\n"
     ]
    }
   ],
   "source": [
    "r,c=map(int,input().split())\n",
    "arr=np.array(list(input().split()for i in range(r)),int)\n",
    "print(arr)\n",
    "print(np.transpose(arr))\n",
    "print(arr.flatten())"
   ]
  },
  {
   "cell_type": "code",
   "execution_count": 37,
   "metadata": {},
   "outputs": [
    {
     "name": "stdout",
     "output_type": "stream",
     "text": [
      "11\n",
      "41\n",
      "24\n",
      "21\n",
      "55\n"
     ]
    }
   ],
   "source": [
    "import random\n",
    "for _ in range(5):\n",
    "    print(random.randint(1,65))"
   ]
  },
  {
   "cell_type": "code",
   "execution_count": 38,
   "metadata": {},
   "outputs": [],
   "source": [
    "data=np.random.randn(3,2)"
   ]
  },
  {
   "cell_type": "code",
   "execution_count": 39,
   "metadata": {},
   "outputs": [
    {
     "data": {
      "text/plain": [
       "array([[ 1.80443434,  0.09828497],\n",
       "       [-0.18514707, -1.42023709],\n",
       "       [-0.93408418,  0.82869884]])"
      ]
     },
     "execution_count": 39,
     "metadata": {},
     "output_type": "execute_result"
    }
   ],
   "source": [
    "data"
   ]
  },
  {
   "cell_type": "code",
   "execution_count": 43,
   "metadata": {},
   "outputs": [
    {
     "name": "stdout",
     "output_type": "stream",
     "text": [
      "0.031991633998327405 -1.4202370916860878 1.8044343400488732\n",
      "[[ 1.80443434 -0.18514707 -0.93408418]\n",
      " [ 0.09828497 -1.42023709  0.82869884]]\n"
     ]
    }
   ],
   "source": [
    "print(data.mean(),data.min(),data.max())\n",
    "print(data.T)"
   ]
  },
  {
   "cell_type": "code",
   "execution_count": null,
   "metadata": {},
   "outputs": [],
   "source": [
    "dataa=np.random.randint(1,200)"
   ]
  },
  {
   "cell_type": "code",
   "execution_count": null,
   "metadata": {},
   "outputs": [],
   "source": []
  },
  {
   "cell_type": "code",
   "execution_count": 18,
   "metadata": {},
   "outputs": [
    {
     "name": "stdout",
     "output_type": "stream",
     "text": [
      "Sabg8\n",
      "<class 'str'>\n",
      "{ \"sender\": \"SOCKET\", \"route\": \"4\", \"country\": \"91\", \"sms\": [ { \"message\": \"It will send yor otp ..\" Sabg8, \"to\": [ \"6392741843\" ] } ] }\n"
     ]
    }
   ],
   "source": [
    "import random\n",
    "import string \n",
    "\n",
    "\n",
    "\n",
    "\n",
    "def rand_pass(size):  \n",
    "    # Takes random choices from  \n",
    "\t# ascii_letters and digits  \n",
    "\tgenerate_pass = ''.join([random.choice( string.ascii_uppercase +\n",
    "\t\t                            string.ascii_lowercase +\n",
    "\t\t                            string.digits)  \n",
    "\t\t                            for n in range(size)])\n",
    "\treturn generate_pass\n",
    "\n",
    "\n",
    "# Driver Code   \n",
    "password = rand_pass(5)\n",
    "\n",
    "print(password)\n",
    "print(type(password))\n",
    "\n",
    "payload = \"{ \\\"sender\\\": \\\"SOCKET\\\", \\\"route\\\": \\\"4\\\", \\\"country\\\": \\\"91\\\", \\\"sms\\\": [ { \\\"message\\\": \\\"It will send yor otp ..\\\" \"+password+\", \\\"to\\\": [ \\\"6392741843\\\" ] } ] }\"\n",
    "\n",
    "\n",
    "\n",
    "print(payload)"
   ]
  },
  {
   "cell_type": "code",
   "execution_count": null,
   "metadata": {},
   "outputs": [],
   "source": []
  },
  {
   "cell_type": "code",
   "execution_count": null,
   "metadata": {},
   "outputs": [],
   "source": []
  },
  {
   "cell_type": "code",
   "execution_count": null,
   "metadata": {},
   "outputs": [],
   "source": []
  },
  {
   "cell_type": "code",
   "execution_count": null,
   "metadata": {},
   "outputs": [],
   "source": []
  },
  {
   "cell_type": "code",
   "execution_count": null,
   "metadata": {},
   "outputs": [],
   "source": []
  },
  {
   "cell_type": "code",
   "execution_count": 13,
   "metadata": {},
   "outputs": [
    {
     "name": "stdout",
     "output_type": "stream",
     "text": [
      "<class 'str'>\n"
     ]
    }
   ],
   "source": [
    "print(type(payload))"
   ]
  },
  {
   "cell_type": "code",
   "execution_count": null,
   "metadata": {},
   "outputs": [],
   "source": []
  },
  {
   "cell_type": "code",
   "execution_count": null,
   "metadata": {},
   "outputs": [],
   "source": []
  },
  {
   "cell_type": "code",
   "execution_count": null,
   "metadata": {},
   "outputs": [],
   "source": []
  },
  {
   "cell_type": "code",
   "execution_count": null,
   "metadata": {},
   "outputs": [],
   "source": []
  },
  {
   "cell_type": "code",
   "execution_count": null,
   "metadata": {},
   "outputs": [],
   "source": []
  },
  {
   "cell_type": "code",
   "execution_count": null,
   "metadata": {},
   "outputs": [],
   "source": []
  },
  {
   "cell_type": "code",
   "execution_count": null,
   "metadata": {},
   "outputs": [],
   "source": []
  },
  {
   "cell_type": "code",
   "execution_count": null,
   "metadata": {},
   "outputs": [],
   "source": []
  },
  {
   "cell_type": "code",
   "execution_count": null,
   "metadata": {},
   "outputs": [],
   "source": []
  },
  {
   "cell_type": "code",
   "execution_count": null,
   "metadata": {},
   "outputs": [],
   "source": []
  },
  {
   "cell_type": "code",
   "execution_count": null,
   "metadata": {},
   "outputs": [],
   "source": []
  },
  {
   "cell_type": "code",
   "execution_count": null,
   "metadata": {},
   "outputs": [],
   "source": []
  },
  {
   "cell_type": "code",
   "execution_count": null,
   "metadata": {},
   "outputs": [],
   "source": []
  },
  {
   "cell_type": "code",
   "execution_count": null,
   "metadata": {},
   "outputs": [],
   "source": []
  },
  {
   "cell_type": "code",
   "execution_count": null,
   "metadata": {},
   "outputs": [],
   "source": []
  },
  {
   "cell_type": "code",
   "execution_count": null,
   "metadata": {},
   "outputs": [],
   "source": []
  },
  {
   "cell_type": "code",
   "execution_count": null,
   "metadata": {},
   "outputs": [],
   "source": []
  },
  {
   "cell_type": "code",
   "execution_count": null,
   "metadata": {},
   "outputs": [],
   "source": []
  },
  {
   "cell_type": "code",
   "execution_count": null,
   "metadata": {},
   "outputs": [],
   "source": []
  },
  {
   "cell_type": "code",
   "execution_count": null,
   "metadata": {},
   "outputs": [],
   "source": []
  },
  {
   "cell_type": "code",
   "execution_count": null,
   "metadata": {},
   "outputs": [],
   "source": []
  },
  {
   "cell_type": "code",
   "execution_count": null,
   "metadata": {},
   "outputs": [],
   "source": [
    "\n"
   ]
  },
  {
   "cell_type": "code",
   "execution_count": null,
   "metadata": {},
   "outputs": [],
   "source": []
  },
  {
   "cell_type": "code",
   "execution_count": null,
   "metadata": {},
   "outputs": [],
   "source": []
  },
  {
   "cell_type": "code",
   "execution_count": null,
   "metadata": {},
   "outputs": [],
   "source": []
  },
  {
   "cell_type": "code",
   "execution_count": null,
   "metadata": {},
   "outputs": [],
   "source": []
  },
  {
   "cell_type": "code",
   "execution_count": null,
   "metadata": {},
   "outputs": [],
   "source": []
  },
  {
   "cell_type": "code",
   "execution_count": null,
   "metadata": {},
   "outputs": [],
   "source": []
  },
  {
   "cell_type": "code",
   "execution_count": null,
   "metadata": {},
   "outputs": [],
   "source": []
  },
  {
   "cell_type": "code",
   "execution_count": null,
   "metadata": {},
   "outputs": [],
   "source": []
  },
  {
   "cell_type": "code",
   "execution_count": null,
   "metadata": {},
   "outputs": [],
   "source": []
  },
  {
   "cell_type": "code",
   "execution_count": null,
   "metadata": {},
   "outputs": [],
   "source": []
  },
  {
   "cell_type": "code",
   "execution_count": null,
   "metadata": {},
   "outputs": [],
   "source": []
  },
  {
   "cell_type": "code",
   "execution_count": null,
   "metadata": {},
   "outputs": [],
   "source": []
  },
  {
   "cell_type": "code",
   "execution_count": null,
   "metadata": {},
   "outputs": [],
   "source": []
  },
  {
   "cell_type": "code",
   "execution_count": null,
   "metadata": {},
   "outputs": [],
   "source": []
  }
 ],
 "metadata": {
  "kernelspec": {
   "display_name": "Python 3",
   "language": "python",
   "name": "python3"
  },
  "language_info": {
   "codemirror_mode": {
    "name": "ipython",
    "version": 3
   },
   "file_extension": ".py",
   "mimetype": "text/x-python",
   "name": "python",
   "nbconvert_exporter": "python",
   "pygments_lexer": "ipython3",
   "version": "3.6.7"
  }
 },
 "nbformat": 4,
 "nbformat_minor": 2
}
